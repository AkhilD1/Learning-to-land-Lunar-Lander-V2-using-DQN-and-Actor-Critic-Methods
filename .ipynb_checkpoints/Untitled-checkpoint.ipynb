{
 "cells": [
  {
   "cell_type": "code",
   "execution_count": 1,
   "id": "a449c93f-1706-4283-a76e-59273521aabe",
   "metadata": {},
   "outputs": [],
   "source": [
    "import gym\n",
    "import numpy as np\n",
    "import statistics\n",
    "import tensorflow as tf\n",
    "import tqdm"
   ]
  },
  {
   "cell_type": "markdown",
   "id": "f3c40e95-3946-49ef-b3c0-e32b4e1e1013",
   "metadata": {},
   "source": [
    "#### Create Lunar lander environment using gym"
   ]
  },
  {
   "cell_type": "code",
   "execution_count": 2,
   "id": "8067937c-701c-406e-a0c9-006bc9a25e21",
   "metadata": {},
   "outputs": [
    {
     "name": "stdout",
     "output_type": "stream",
     "text": [
      "Number of elements in state space vector :  8\n",
      "Number of actions there :  4\n"
     ]
    }
   ],
   "source": [
    "env = gym.make(\"LunarLander-v2\")\n",
    "number_of_actions = env.action_space.n\n",
    "print(\"Number of elements in state space vector : \", env.observation_space.shape[0])\n",
    "print(\"Number of actions there : \", env.action_space.n)"
   ]
  },
  {
   "cell_type": "markdown",
   "id": "0a03f49a-2c4c-428b-b07b-db3325152102",
   "metadata": {},
   "source": [
    "#### We can consider that the Lunar Lander environment as solved when the average reward returns 200 over 100 iterations."
   ]
  },
  {
   "cell_type": "markdown",
   "id": "3806a97c-7d1b-4cd0-b77e-c06cf98a3d33",
   "metadata": {},
   "source": [
    "#### Initialize constant variables"
   ]
  },
  {
   "cell_type": "code",
   "execution_count": 3,
   "id": "3bd26e9b-809b-47dd-849f-fe81aac9a47b",
   "metadata": {},
   "outputs": [],
   "source": [
    "# Set seed for experiment reproducibility\n",
    "seed = 42\n",
    "env.seed(seed)\n",
    "tf.random.set_seed(seed)\n",
    "np.random.seed(seed)\n",
    "\n",
    "# Small epsilon value for stabilizing division operations\n",
    "eps = np.finfo(np.float32).eps.item()\n",
    "reward_threshold = 200\n",
    "# max number of iterations in training the model\n",
    "max_episodes = 10000\n",
    "max_steps_per_episode = 1000\n",
    "min_episodes_criterion = 100"
   ]
  },
  {
   "cell_type": "markdown",
   "id": "f164a8f3-0b58-4519-9d02-a673b0440668",
   "metadata": {},
   "source": [
    "#### We have implemented actor-critic in the ActorCrtic/main.py"
   ]
  },
  {
   "cell_type": "code",
   "execution_count": 4,
   "id": "3e70eb91-e043-4e74-9395-448615da8398",
   "metadata": {},
   "outputs": [
    {
     "name": "stderr",
     "output_type": "stream",
     "text": [
      "2021-12-16 19:48:51.229713: I tensorflow/compiler/jit/xla_cpu_device.cc:41] Not creating XLA devices, tf_xla_enable_xla_devices not set\n",
      "2021-12-16 19:48:51.229963: I tensorflow/core/platform/cpu_feature_guard.cc:142] This TensorFlow binary is optimized with oneAPI Deep Neural Network Library (oneDNN) to use the following CPU instructions in performance-critical operations:  AVX2 FMA\n",
      "To enable them in other operations, rebuild TensorFlow with the appropriate compiler flags.\n"
     ]
    }
   ],
   "source": [
    "# Import and create Actor critic agent\n",
    "from ActorCritic.sample import Agent\n",
    "agent = Agent(env=env, gamma=0.99, learning_rate=0.01, num_hidden_units = 128)"
   ]
  },
  {
   "cell_type": "code",
   "execution_count": 5,
   "id": "acf1db43-4cff-490e-b8db-d66bc0f8b579",
   "metadata": {},
   "outputs": [
    {
     "name": "stderr",
     "output_type": "stream",
     "text": [
      "  0%|                                                                                                                                                | 0/10000 [00:00<?, ?it/s]2021-12-16 19:48:52.536171: I tensorflow/compiler/mlir/mlir_graph_optimization_pass.cc:116] None of the MLIR optimization passes are enabled (registered 2)\n",
      "Episode 8849:  88%|█████████████████████████████████████████████████████████████████████▉         | 8849/10000 [19:32<02:32,  7.55it/s, average_reward=208, episode_reward=228]"
     ]
    },
    {
     "name": "stdout",
     "output_type": "stream",
     "text": [
      "\n",
      "Solved at episode 8849: average reward: 27.12!\n"
     ]
    },
    {
     "name": "stderr",
     "output_type": "stream",
     "text": [
      "\n"
     ]
    }
   ],
   "source": [
    "episodes_reward = []\n",
    "average_rewards = []\n",
    "reward_count = 0\n",
    "with tqdm.trange(max_episodes) as t:\n",
    "    for i in t:\n",
    "        initial_state = tf.constant(env.reset(), dtype=tf.float32)\n",
    "        episode_reward = int(agent.train_step(initial_state))\n",
    "\n",
    "        episodes_reward.append(episode_reward)\n",
    "        running_reward = statistics.mean(episodes_reward)\n",
    "        average_reward = 0\n",
    "        if len(episodes_reward) > 100:\n",
    "            average_reward = np.mean(episodes_reward[-100:])\n",
    "            average_rewards.append(average_reward)\n",
    "\n",
    "        t.set_description(f'Episode {i}')\n",
    "        t.set_postfix(\n",
    "            episode_reward=episode_reward, average_reward=average_reward)\n",
    "\n",
    "        # Show average episode reward every 10 episodes\n",
    "        if i % 10 == 0:\n",
    "            pass  # print(f'Episode {i}: average reward: {avg_reward}')\n",
    "        \n",
    "        if average_reward >=200:\n",
    "            reward_count += 1\n",
    "        else:\n",
    "            reward_count = 0\n",
    "\n",
    "        if average_reward > reward_threshold and reward_count >= 200:\n",
    "            break\n",
    "\n",
    "\n",
    "print(f'\\nSolved at episode {i}: average reward: {running_reward:.2f}!')\n"
   ]
  },
  {
   "cell_type": "code",
   "execution_count": 6,
   "id": "da8f2cb4-4ce7-47cd-812b-626d48ecc5b3",
   "metadata": {},
   "outputs": [
    {
     "data": {
      "text/plain": [
       "Text(0.5, 1.0, 'Actor-critic model')"
      ]
     },
     "execution_count": 6,
     "metadata": {},
     "output_type": "execute_result"
    },
    {
     "data": {
      "image/png": "[encoded data removed]",
      "text/plain": [
       "<Figure size 432x288 with 1 Axes>"
      ]
     },
     "metadata": {
      "needs_background": "light"
     },
     "output_type": "display_data"
    }
   ],
   "source": [
    "import matplotlib.pyplot as plt\n",
    "plt.plot(episodes_reward)\n",
    "plt.plot(average_rewards)\n",
    "plt.title(\"Actor-critic model\")"
   ]
  },
  {
   "cell_type": "code",
   "execution_count": 7,
   "id": "534956c8-ad9f-42ee-ac28-56242c59c773",
   "metadata": {},
   "outputs": [
    {
     "name": "stderr",
     "output_type": "stream",
     "text": [
      "2021-12-16 20:08:24.339223: W tensorflow/python/util/util.cc:348] Sets are not currently considered sequences, but this may change in the future, so consider avoiding using them.\n"
     ]
    },
    {
     "name": "stdout",
     "output_type": "stream",
     "text": [
      "INFO:tensorflow:Assets written to: actor_crtic_model/assets\n"
     ]
    }
   ],
   "source": [
    "agent.model.save(\"actor_crtic_model\")"
   ]
  },
  {
   "cell_type": "code",
   "execution_count": 8,
   "id": "acf54bf5-c730-47cd-a031-97f08add808f",
   "metadata": {},
   "outputs": [
    {
     "name": "stdout",
     "output_type": "stream",
     "text": [
      "WARNING:tensorflow:No training configuration found in save file, so the model was *not* compiled. Compile it manually.\n"
     ]
    }
   ],
   "source": [
    "agent.model = tf.keras.models.load_model(\"actor_crtic_model\")"
   ]
  },
  {
   "cell_type": "code",
   "execution_count": 9,
   "id": "cd93b9c9-d20c-4c81-99d3-f107bc945603",
   "metadata": {},
   "outputs": [
    {
     "name": "stderr",
     "output_type": "stream",
     "text": [
      "2021-12-16 20:08:25.426 python[27075:3826584] Warning: Expected min height of view: (<NSPopoverTouchBarItemButton: 0x7fcc72b48660>) to be less than or equal to 30 but got a height of 32.000000. This error will be logged once per view in violation.\n",
      "2021-12-16 20:08:25.426 python[27075:3826584] Warning: Expected min height of view: (<NSButton: 0x7fcc6862e4c0>) to be less than or equal to 30 but got a height of 32.000000. This error will be logged once per view in violation.\n",
      "2021-12-16 20:08:25.430 python[27075:3826584] Warning: Expected min height of view: (<NSPopoverTouchBarItemButton: 0x7fcc6862f110>) to be less than or equal to 30 but got a height of 32.000000. This error will be logged once per view in violation.\n",
      "2021-12-16 20:08:25.433 python[27075:3826584] Warning: Expected min height of view: (<NSPopoverTouchBarItemButton: 0x7fcc68631330>) to be less than or equal to 30 but got a height of 32.000000. This error will be logged once per view in violation.\n"
     ]
    },
    {
     "ename": "ValueError",
     "evalue": "Python inputs incompatible with input_signature:\n  inputs: (\n    tf.Tensor(\n[[[ 0.00345068  1.4071846   0.3495048  -0.16603626 -0.00399173\n   -0.07916795  0.          0.        ]]], shape=(1, 1, 8), dtype=float32))\n  input_signature: (\n    TensorSpec(shape=(None, 8), dtype=tf.float32, name='input_1'))",
     "output_type": "error",
     "traceback": [
      "\u001b[0;31m---------------------------------------------------------------------------\u001b[0m",
      "\u001b[0;31mValueError\u001b[0m                                Traceback (most recent call last)",
      "\u001b[0;32m/var/folders/5f/gy5bz2g93rlby5lwdqn24v1m0000gn/T/ipykernel_27075/1285683677.py\u001b[0m in \u001b[0;36m<module>\u001b[0;34m\u001b[0m\n\u001b[1;32m      7\u001b[0m \u001b[0;34m\u001b[0m\u001b[0m\n\u001b[1;32m      8\u001b[0m         \u001b[0mstate\u001b[0m \u001b[0;34m=\u001b[0m \u001b[0mtf\u001b[0m\u001b[0;34m.\u001b[0m\u001b[0mexpand_dims\u001b[0m\u001b[0;34m(\u001b[0m\u001b[0mstate\u001b[0m\u001b[0;34m,\u001b[0m \u001b[0;36m0\u001b[0m\u001b[0;34m)\u001b[0m\u001b[0;34m\u001b[0m\u001b[0;34m\u001b[0m\u001b[0m\n\u001b[0;32m----> 9\u001b[0;31m         \u001b[0maction_probs\u001b[0m\u001b[0;34m,\u001b[0m \u001b[0m_\u001b[0m \u001b[0;34m=\u001b[0m \u001b[0magent\u001b[0m\u001b[0;34m.\u001b[0m\u001b[0mmodel\u001b[0m\u001b[0;34m(\u001b[0m\u001b[0mstate\u001b[0m\u001b[0;34m)\u001b[0m\u001b[0;34m\u001b[0m\u001b[0;34m\u001b[0m\u001b[0m\n\u001b[0m\u001b[1;32m     10\u001b[0m \u001b[0;31m#         action = np.argmax(np.squeeze(action_probs))\u001b[0m\u001b[0;34m\u001b[0m\u001b[0;34m\u001b[0m\u001b[0;34m\u001b[0m\u001b[0m\n\u001b[1;32m     11\u001b[0m \u001b[0;34m\u001b[0m\u001b[0m\n",
      "\u001b[0;32m~/miniconda3/envs/LunarLander-v2_DeepRL-main/lib/python3.7/site-packages/tensorflow/python/keras/engine/base_layer.py\u001b[0m in \u001b[0;36m__call__\u001b[0;34m(self, *args, **kwargs)\u001b[0m\n\u001b[1;32m   1010\u001b[0m         with autocast_variable.enable_auto_cast_variables(\n\u001b[1;32m   1011\u001b[0m             self._compute_dtype_object):\n\u001b[0;32m-> 1012\u001b[0;31m           \u001b[0moutputs\u001b[0m \u001b[0;34m=\u001b[0m \u001b[0mcall_fn\u001b[0m\u001b[0;34m(\u001b[0m\u001b[0minputs\u001b[0m\u001b[0;34m,\u001b[0m \u001b[0;34m*\u001b[0m\u001b[0margs\u001b[0m\u001b[0;34m,\u001b[0m \u001b[0;34m**\u001b[0m\u001b[0mkwargs\u001b[0m\u001b[0;34m)\u001b[0m\u001b[0;34m\u001b[0m\u001b[0;34m\u001b[0m\u001b[0m\n\u001b[0m\u001b[1;32m   1013\u001b[0m \u001b[0;34m\u001b[0m\u001b[0m\n\u001b[1;32m   1014\u001b[0m         \u001b[0;32mif\u001b[0m \u001b[0mself\u001b[0m\u001b[0;34m.\u001b[0m\u001b[0m_activity_regularizer\u001b[0m\u001b[0;34m:\u001b[0m\u001b[0;34m\u001b[0m\u001b[0;34m\u001b[0m\u001b[0m\n",
      "\u001b[0;32m~/miniconda3/envs/LunarLander-v2_DeepRL-main/lib/python3.7/site-packages/tensorflow/python/keras/saving/saved_model/utils.py\u001b[0m in \u001b[0;36mreturn_outputs_and_add_losses\u001b[0;34m(*args, **kwargs)\u001b[0m\n\u001b[1;32m     71\u001b[0m     \u001b[0minputs\u001b[0m \u001b[0;34m=\u001b[0m \u001b[0margs\u001b[0m\u001b[0;34m[\u001b[0m\u001b[0minputs_arg_index\u001b[0m\u001b[0;34m]\u001b[0m\u001b[0;34m\u001b[0m\u001b[0;34m\u001b[0m\u001b[0m\n\u001b[1;32m     72\u001b[0m     \u001b[0margs\u001b[0m \u001b[0;34m=\u001b[0m \u001b[0margs\u001b[0m\u001b[0;34m[\u001b[0m\u001b[0minputs_arg_index\u001b[0m \u001b[0;34m+\u001b[0m \u001b[0;36m1\u001b[0m\u001b[0;34m:\u001b[0m\u001b[0;34m]\u001b[0m\u001b[0;34m\u001b[0m\u001b[0;34m\u001b[0m\u001b[0m\n\u001b[0;32m---> 73\u001b[0;31m     \u001b[0moutputs\u001b[0m\u001b[0;34m,\u001b[0m \u001b[0mlosses\u001b[0m \u001b[0;34m=\u001b[0m \u001b[0mfn\u001b[0m\u001b[0;34m(\u001b[0m\u001b[0minputs\u001b[0m\u001b[0;34m,\u001b[0m \u001b[0;34m*\u001b[0m\u001b[0margs\u001b[0m\u001b[0;34m,\u001b[0m \u001b[0;34m**\u001b[0m\u001b[0mkwargs\u001b[0m\u001b[0;34m)\u001b[0m\u001b[0;34m\u001b[0m\u001b[0;34m\u001b[0m\u001b[0m\n\u001b[0m\u001b[1;32m     74\u001b[0m     \u001b[0mlayer\u001b[0m\u001b[0;34m.\u001b[0m\u001b[0madd_loss\u001b[0m\u001b[0;34m(\u001b[0m\u001b[0mlosses\u001b[0m\u001b[0;34m,\u001b[0m \u001b[0minputs\u001b[0m\u001b[0;34m=\u001b[0m\u001b[0minputs\u001b[0m\u001b[0;34m)\u001b[0m\u001b[0;34m\u001b[0m\u001b[0;34m\u001b[0m\u001b[0m\n\u001b[1;32m     75\u001b[0m \u001b[0;34m\u001b[0m\u001b[0m\n",
      "\u001b[0;32m~/miniconda3/envs/LunarLander-v2_DeepRL-main/lib/python3.7/site-packages/tensorflow/python/eager/def_function.py\u001b[0m in \u001b[0;36m__call__\u001b[0;34m(self, *args, **kwds)\u001b[0m\n\u001b[1;32m    826\u001b[0m     \u001b[0mtracing_count\u001b[0m \u001b[0;34m=\u001b[0m \u001b[0mself\u001b[0m\u001b[0;34m.\u001b[0m\u001b[0mexperimental_get_tracing_count\u001b[0m\u001b[0;34m(\u001b[0m\u001b[0;34m)\u001b[0m\u001b[0;34m\u001b[0m\u001b[0;34m\u001b[0m\u001b[0m\n\u001b[1;32m    827\u001b[0m     \u001b[0;32mwith\u001b[0m \u001b[0mtrace\u001b[0m\u001b[0;34m.\u001b[0m\u001b[0mTrace\u001b[0m\u001b[0;34m(\u001b[0m\u001b[0mself\u001b[0m\u001b[0;34m.\u001b[0m\u001b[0m_name\u001b[0m\u001b[0;34m)\u001b[0m \u001b[0;32mas\u001b[0m \u001b[0mtm\u001b[0m\u001b[0;34m:\u001b[0m\u001b[0;34m\u001b[0m\u001b[0;34m\u001b[0m\u001b[0m\n\u001b[0;32m--> 828\u001b[0;31m       \u001b[0mresult\u001b[0m \u001b[0;34m=\u001b[0m \u001b[0mself\u001b[0m\u001b[0;34m.\u001b[0m\u001b[0m_call\u001b[0m\u001b[0;34m(\u001b[0m\u001b[0;34m*\u001b[0m\u001b[0margs\u001b[0m\u001b[0;34m,\u001b[0m \u001b[0;34m**\u001b[0m\u001b[0mkwds\u001b[0m\u001b[0;34m)\u001b[0m\u001b[0;34m\u001b[0m\u001b[0;34m\u001b[0m\u001b[0m\n\u001b[0m\u001b[1;32m    829\u001b[0m       \u001b[0mcompiler\u001b[0m \u001b[0;34m=\u001b[0m \u001b[0;34m\"xla\"\u001b[0m \u001b[0;32mif\u001b[0m \u001b[0mself\u001b[0m\u001b[0;34m.\u001b[0m\u001b[0m_experimental_compile\u001b[0m \u001b[0;32melse\u001b[0m \u001b[0;34m\"nonXla\"\u001b[0m\u001b[0;34m\u001b[0m\u001b[0;34m\u001b[0m\u001b[0m\n\u001b[1;32m    830\u001b[0m       \u001b[0mnew_tracing_count\u001b[0m \u001b[0;34m=\u001b[0m \u001b[0mself\u001b[0m\u001b[0;34m.\u001b[0m\u001b[0mexperimental_get_tracing_count\u001b[0m\u001b[0;34m(\u001b[0m\u001b[0;34m)\u001b[0m\u001b[0;34m\u001b[0m\u001b[0;34m\u001b[0m\u001b[0m\n",
      "\u001b[0;32m~/miniconda3/envs/LunarLander-v2_DeepRL-main/lib/python3.7/site-packages/tensorflow/python/eager/def_function.py\u001b[0m in \u001b[0;36m_call\u001b[0;34m(self, *args, **kwds)\u001b[0m\n\u001b[1;32m    860\u001b[0m       \u001b[0;31m# In this case we have not created variables on the first call. So we can\u001b[0m\u001b[0;34m\u001b[0m\u001b[0;34m\u001b[0m\u001b[0;34m\u001b[0m\u001b[0m\n\u001b[1;32m    861\u001b[0m       \u001b[0;31m# run the first trace but we should fail if variables are created.\u001b[0m\u001b[0;34m\u001b[0m\u001b[0;34m\u001b[0m\u001b[0;34m\u001b[0m\u001b[0m\n\u001b[0;32m--> 862\u001b[0;31m       \u001b[0mresults\u001b[0m \u001b[0;34m=\u001b[0m \u001b[0mself\u001b[0m\u001b[0;34m.\u001b[0m\u001b[0m_stateful_fn\u001b[0m\u001b[0;34m(\u001b[0m\u001b[0;34m*\u001b[0m\u001b[0margs\u001b[0m\u001b[0;34m,\u001b[0m \u001b[0;34m**\u001b[0m\u001b[0mkwds\u001b[0m\u001b[0;34m)\u001b[0m\u001b[0;34m\u001b[0m\u001b[0;34m\u001b[0m\u001b[0m\n\u001b[0m\u001b[1;32m    863\u001b[0m       \u001b[0;32mif\u001b[0m \u001b[0mself\u001b[0m\u001b[0;34m.\u001b[0m\u001b[0m_created_variables\u001b[0m\u001b[0;34m:\u001b[0m\u001b[0;34m\u001b[0m\u001b[0;34m\u001b[0m\u001b[0m\n\u001b[1;32m    864\u001b[0m         raise ValueError(\"Creating variables on a non-first call to a function\"\n",
      "\u001b[0;32m~/miniconda3/envs/LunarLander-v2_DeepRL-main/lib/python3.7/site-packages/tensorflow/python/eager/function.py\u001b[0m in \u001b[0;36m__call__\u001b[0;34m(self, *args, **kwargs)\u001b[0m\n\u001b[1;32m   2939\u001b[0m     \u001b[0;32mwith\u001b[0m \u001b[0mself\u001b[0m\u001b[0;34m.\u001b[0m\u001b[0m_lock\u001b[0m\u001b[0;34m:\u001b[0m\u001b[0;34m\u001b[0m\u001b[0;34m\u001b[0m\u001b[0m\n\u001b[1;32m   2940\u001b[0m       (graph_function,\n\u001b[0;32m-> 2941\u001b[0;31m        filtered_flat_args) = self._maybe_define_function(args, kwargs)\n\u001b[0m\u001b[1;32m   2942\u001b[0m     return graph_function._call_flat(\n\u001b[1;32m   2943\u001b[0m         filtered_flat_args, captured_inputs=graph_function.captured_inputs)  # pylint: disable=protected-access\n",
      "\u001b[0;32m~/miniconda3/envs/LunarLander-v2_DeepRL-main/lib/python3.7/site-packages/tensorflow/python/eager/function.py\u001b[0m in \u001b[0;36m_maybe_define_function\u001b[0;34m(self, args, kwargs)\u001b[0m\n\u001b[1;32m   3312\u001b[0m     \u001b[0;32mif\u001b[0m \u001b[0mself\u001b[0m\u001b[0;34m.\u001b[0m\u001b[0minput_signature\u001b[0m \u001b[0;32mis\u001b[0m \u001b[0;32mNone\u001b[0m \u001b[0;32mor\u001b[0m \u001b[0margs\u001b[0m \u001b[0;32mis\u001b[0m \u001b[0;32mnot\u001b[0m \u001b[0;32mNone\u001b[0m \u001b[0;32mor\u001b[0m \u001b[0mkwargs\u001b[0m \u001b[0;32mis\u001b[0m \u001b[0;32mnot\u001b[0m \u001b[0;32mNone\u001b[0m\u001b[0;34m:\u001b[0m\u001b[0;34m\u001b[0m\u001b[0;34m\u001b[0m\u001b[0m\n\u001b[1;32m   3313\u001b[0m       \u001b[0margs\u001b[0m\u001b[0;34m,\u001b[0m \u001b[0mkwargs\u001b[0m\u001b[0;34m,\u001b[0m \u001b[0mflat_args\u001b[0m\u001b[0;34m,\u001b[0m \u001b[0mfiltered_flat_args\u001b[0m \u001b[0;34m=\u001b[0m\u001b[0;31m \u001b[0m\u001b[0;31m\\\u001b[0m\u001b[0;34m\u001b[0m\u001b[0;34m\u001b[0m\u001b[0m\n\u001b[0;32m-> 3314\u001b[0;31m           \u001b[0mself\u001b[0m\u001b[0;34m.\u001b[0m\u001b[0m_function_spec\u001b[0m\u001b[0;34m.\u001b[0m\u001b[0mcanonicalize_function_inputs\u001b[0m\u001b[0;34m(\u001b[0m\u001b[0;34m*\u001b[0m\u001b[0margs\u001b[0m\u001b[0;34m,\u001b[0m \u001b[0;34m**\u001b[0m\u001b[0mkwargs\u001b[0m\u001b[0;34m)\u001b[0m\u001b[0;34m\u001b[0m\u001b[0;34m\u001b[0m\u001b[0m\n\u001b[0m\u001b[1;32m   3315\u001b[0m     \u001b[0;32melse\u001b[0m\u001b[0;34m:\u001b[0m\u001b[0;34m\u001b[0m\u001b[0;34m\u001b[0m\u001b[0m\n\u001b[1;32m   3316\u001b[0m       \u001b[0mflat_args\u001b[0m\u001b[0;34m,\u001b[0m \u001b[0mfiltered_flat_args\u001b[0m \u001b[0;34m=\u001b[0m \u001b[0;34m[\u001b[0m\u001b[0;32mNone\u001b[0m\u001b[0;34m]\u001b[0m\u001b[0;34m,\u001b[0m \u001b[0;34m[\u001b[0m\u001b[0;34m]\u001b[0m\u001b[0;34m\u001b[0m\u001b[0;34m\u001b[0m\u001b[0m\n",
      "\u001b[0;32m~/miniconda3/envs/LunarLander-v2_DeepRL-main/lib/python3.7/site-packages/tensorflow/python/eager/function.py\u001b[0m in \u001b[0;36mcanonicalize_function_inputs\u001b[0;34m(self, *args, **kwargs)\u001b[0m\n\u001b[1;32m   2702\u001b[0m       \u001b[0;32massert\u001b[0m \u001b[0;32mnot\u001b[0m \u001b[0mkwargs\u001b[0m\u001b[0;34m\u001b[0m\u001b[0;34m\u001b[0m\u001b[0m\n\u001b[1;32m   2703\u001b[0m       inputs, flat_inputs, filtered_flat_inputs = _convert_inputs_to_signature(\n\u001b[0;32m-> 2704\u001b[0;31m           inputs, self._input_signature, self._flat_input_signature)\n\u001b[0m\u001b[1;32m   2705\u001b[0m       \u001b[0;32mreturn\u001b[0m \u001b[0minputs\u001b[0m\u001b[0;34m,\u001b[0m \u001b[0;34m{\u001b[0m\u001b[0;34m}\u001b[0m\u001b[0;34m,\u001b[0m \u001b[0mflat_inputs\u001b[0m\u001b[0;34m,\u001b[0m \u001b[0mfiltered_flat_inputs\u001b[0m\u001b[0;34m\u001b[0m\u001b[0;34m\u001b[0m\u001b[0m\n\u001b[1;32m   2706\u001b[0m \u001b[0;34m\u001b[0m\u001b[0m\n",
      "\u001b[0;32m~/miniconda3/envs/LunarLander-v2_DeepRL-main/lib/python3.7/site-packages/tensorflow/python/eager/function.py\u001b[0m in \u001b[0;36m_convert_inputs_to_signature\u001b[0;34m(inputs, input_signature, flat_input_signature)\u001b[0m\n\u001b[1;32m   2804\u001b[0m       flatten_inputs)):\n\u001b[1;32m   2805\u001b[0m     raise ValueError(\"Python inputs incompatible with input_signature:\\n%s\" %\n\u001b[0;32m-> 2806\u001b[0;31m                      format_error_message(inputs, input_signature))\n\u001b[0m\u001b[1;32m   2807\u001b[0m \u001b[0;34m\u001b[0m\u001b[0m\n\u001b[1;32m   2808\u001b[0m   \u001b[0;32mif\u001b[0m \u001b[0mneed_packing\u001b[0m\u001b[0;34m:\u001b[0m\u001b[0;34m\u001b[0m\u001b[0;34m\u001b[0m\u001b[0m\n",
      "\u001b[0;31mValueError\u001b[0m: Python inputs incompatible with input_signature:\n  inputs: (\n    tf.Tensor(\n[[[ 0.00345068  1.4071846   0.3495048  -0.16603626 -0.00399173\n   -0.07916795  0.          0.        ]]], shape=(1, 1, 8), dtype=float32))\n  input_signature: (\n    TensorSpec(shape=(None, 8), dtype=tf.float32, name='input_1'))"
     ]
    }
   ],
   "source": [
    "env.render()\n",
    "for i in range(5):\n",
    "    state = tf.constant(env.reset(), dtype=tf.float32)\n",
    "    # state = env.reset()\n",
    "    done = False\n",
    "    while not done:\n",
    "        \n",
    "        state = tf.expand_dims(state, 0)\n",
    "        action_probs, _ = agent.model(state)\n",
    "#         action = np.argmax(np.squeeze(action_probs))\n",
    "\n",
    "#         state, _, done, _ = env.step(action)\n",
    "#         new_state, reward, done, _ = env.step(action)"
   ]
  },
  {
   "cell_type": "code",
   "execution_count": 19,
   "id": "1947019e-f8bb-41d3-bf3c-1b1508ee3996",
   "metadata": {},
   "outputs": [
    {
     "name": "stderr",
     "output_type": "stream",
     "text": [
      "2021-12-16 20:23:56.717 python[27075:3826584] Warning: Expected min height of view: (<NSPopoverTouchBarItemButton: 0x7fcc68682040>) to be less than or equal to 30 but got a height of 32.000000. This error will be logged once per view in violation.\n",
      "2021-12-16 20:23:56.718 python[27075:3826584] Warning: Expected min height of view: (<NSButton: 0x7fcc650e8c20>) to be less than or equal to 30 but got a height of 32.000000. This error will be logged once per view in violation.\n",
      "2021-12-16 20:23:56.721 python[27075:3826584] Warning: Expected min height of view: (<NSPopoverTouchBarItemButton: 0x7fcc650e72c0>) to be less than or equal to 30 but got a height of 32.000000. This error will be logged once per view in violation.\n",
      "2021-12-16 20:23:56.723 python[27075:3826584] Warning: Expected min height of view: (<NSPopoverTouchBarItemButton: 0x7fcc68683020>) to be less than or equal to 30 but got a height of 32.000000. This error will be logged once per view in violation.\n"
     ]
    },
    {
     "name": "stdout",
     "output_type": "stream",
     "text": [
      "253.9712082706839\n",
      "288.2306744055188\n",
      "269.572979209618\n",
      "277.4887551060416\n",
      "0.03683864242542256\n"
     ]
    }
   ],
   "source": [
    "from gym import wrappers\n",
    "\n",
    "env = gym.make(\"LunarLander-v2\")\n",
    "env.reset()\n",
    "env = wrappers.Monitor(env, \"./actor_critic_results\", force=True)\n",
    "# for _ in range(1000):\n",
    "#     action = env.action_space.sample()\n",
    "#     observation, reward, done, info = env.step(action)\n",
    "#     if done: break\n",
    "# env.close()\n",
    "\n",
    "def render_episode(env: gym.Env, model: tf.keras.Model, max_steps: int): \n",
    "    \n",
    "    scores, episodes, avg_scores, obj = [], [], [], []\n",
    "    goal = 200\n",
    "    score = 0.0\n",
    "    for i in range(5):\n",
    "        state = tf.constant(env.reset(), dtype=tf.float32)\n",
    "        done = False\n",
    "        episode_score = 0.0\n",
    "        while not done:\n",
    "            env.render()\n",
    "            state = tf.expand_dims(state, 0)\n",
    "            action_probs, _ = model(state)\n",
    "            action = np.argmax(np.squeeze(action_probs))\n",
    "\n",
    "            state, reward, done, _ = env.step(action)\n",
    "            state = tf.constant(state, dtype=tf.float32)\n",
    "            episode_score += reward\n",
    "            \n",
    "            # action = self.policy(state)\n",
    "            # new_state, reward, done, _ = env.step(action)\n",
    "            # episode_score += reward\n",
    "            # state = new_state\n",
    "        score += episode_score\n",
    "        print(episode_score)\n",
    "        scores.append(episode_score)\n",
    "            \n",
    "#         score += episode_score\n",
    "#         scores.append(episode_score)\n",
    "#         obj.append(goal)\n",
    "#         episodes.append(i)\n",
    "#         avg_score = np.mean(scores[-100:])\n",
    "#         avg_scores.append(avg_score)\n",
    "   \n",
    "#     for sd in range(5):\n",
    "#         state = tf.constant(env.reset(), dtype=tf.float32)\n",
    "#         for i in range(1, max_steps + 1):\n",
    "#             state = tf.expand_dims(state, 0)\n",
    "#             action_probs, _ = model(state)\n",
    "#             action = np.argmax(np.squeeze(action_probs))\n",
    "\n",
    "#             state, reward, done, _ = env.step(action)\n",
    "#             state = tf.constant(state, dtype=tf.float32)\n",
    "\n",
    "#             # Render screen every 10 steps\n",
    "#             if i % 20 == 0:\n",
    "#                 screen = env.render()\n",
    "#                 # images.append(Image.fromarray(screen))\n",
    "\n",
    "#             if done:\n",
    "#                 break\n",
    "\n",
    "    return\n",
    "\n",
    "\n",
    "# Save GIF image\n",
    "images = render_episode(env, agent.model, max_steps_per_episode)"
   ]
  },
  {
   "cell_type": "code",
   "execution_count": null,
   "id": "5107b279-0219-4f03-9fe2-8a5f897a06f2",
   "metadata": {},
   "outputs": [],
   "source": [
    "# Render an episode and save as a GIF file\n",
    "\n",
    "from IPython import display as ipythondisplay\n",
    "from PIL import Image\n",
    "from pyvirtualdisplay import Display\n",
    "\n",
    "\n",
    "display = Display(visible=0, size=(400, 300))\n",
    "display.start()\n",
    "\n",
    "\n",
    "def render_episode(env: gym.Env, model: tf.keras.Model, max_steps: int): \n",
    "    screen = env.render(mode='rgb_array')\n",
    "\n",
    "    im = Image.fromarray(screen)\n",
    "\n",
    "    images = [im]\n",
    "\n",
    "    state = tf.constant(env.reset(), dtype=tf.float32)\n",
    "    for i in range(1, max_steps + 1):\n",
    "        state = tf.expand_dims(state, 0)\n",
    "        action_probs, _ = model(state)\n",
    "        action = np.argmax(np.squeeze(action_probs))\n",
    "\n",
    "        state, _, done, _ = env.step(action)\n",
    "        state = tf.constant(state, dtype=tf.float32)\n",
    "\n",
    "        # Render screen every 10 steps\n",
    "        if i % 10 == 0:\n",
    "            screen = env.render(mode='rgb_array')\n",
    "            images.append(Image.fromarray(screen))\n",
    "\n",
    "        if done:\n",
    "            break\n",
    "\n",
    "    return images\n",
    "\n",
    "\n",
    "# Save GIF image\n",
    "images = render_episode(env, model, max_steps_per_episode)\n",
    "# image_file = 'lunar_lander-actor_critic.gif'\n",
    "# # loop=0: loop forever, duration=1: play each frame for 1ms\n",
    "# images[0].save(\n",
    "#     image_file, save_all=True, append_images=images[1:], loop=0, duration=1)"
   ]
  },
  {
   "cell_type": "code",
   "execution_count": null,
   "id": "c110058c-ee88-4252-b4c1-080e363be83f",
   "metadata": {},
   "outputs": [],
   "source": [
    "! pip install xvfbwrapper"
   ]
  },
  {
   "cell_type": "code",
   "execution_count": null,
   "id": "d010a629-af20-43ca-8e5b-086b475d4a55",
   "metadata": {},
   "outputs": [],
   "source": [
    "agent.model"
   ]
  },
  {
   "cell_type": "code",
   "execution_count": null,
   "id": "58b64539-d500-4603-817f-30e341385770",
   "metadata": {},
   "outputs": [],
   "source": [
    "env"
   ]
  },
  {
   "cell_type": "code",
   "execution_count": null,
   "id": "0f608eb3-50c8-4a58-860d-b95c26999a5c",
   "metadata": {},
   "outputs": [],
   "source": []
  }
 ],
 "metadata": {
  "kernelspec": {
   "display_name": "Python 3 (ipykernel)",
   "language": "python",
   "name": "python3"
  },
  "language_info": {
   "codemirror_mode": {
    "name": "ipython",
    "version": 3
   },
   "file_extension": ".py",
   "mimetype": "text/x-python",
   "name": "python",
   "nbconvert_exporter": "python",
   "pygments_lexer": "ipython3",
   "version": "3.7.11"
  }
 },
 "nbformat": 4,
 "nbformat_minor": 5
}
